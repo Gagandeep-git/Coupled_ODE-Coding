{
 "cells": [
  {
   "cell_type": "code",
   "execution_count": 1,
   "metadata": {},
   "outputs": [],
   "source": [
    "import math"
   ]
  },
  {
   "cell_type": "code",
   "execution_count": 2,
   "metadata": {},
   "outputs": [],
   "source": [
    "# dx/dt=10(y-x)\n",
    "def odeValx(x, y, z): \n",
    "    return 10*(y-x)"
   ]
  },
  {
   "cell_type": "code",
   "execution_count": 3,
   "metadata": {},
   "outputs": [],
   "source": [
    "# dy/dt=x(28-z)-y\n",
    "def odeValy(x, y,z): \n",
    "    return (x*(28-z)-y)"
   ]
  },
  {
   "cell_type": "code",
   "execution_count": 4,
   "metadata": {},
   "outputs": [],
   "source": [
    "#dz/dt = xy-8z/3\n",
    "def odeValz(x, y,z): \n",
    "    return (x*y-(8/3)*z)"
   ]
  },
  {
   "cell_type": "code",
   "execution_count": 5,
   "metadata": {},
   "outputs": [],
   "source": [
    "# using initial values of x,y,z find values at given time t using RK 4 method\n",
    "# h is the step size\n",
    "# t0 is the initial time - taken as zero\n",
    "def myRungeKutta4Method(x0, y0, z0, t, t0, h, equations): \n",
    "    # Count number of iterations in the RK 4 method  \n",
    "    n = (math.ceil)((t - t0)/h)  \n",
    "    \n",
    "    # Initialise x,y, and z\n",
    "    x=x0;\n",
    "    y=y0;\n",
    "    z=z0;\n",
    "    \n",
    "    # Iterate for number of iterations\n",
    "    for i in range(1, n + 1): \n",
    "        \n",
    "        k1x=h*odeValx(x,y,z)\n",
    "        k1y=h*odeValy(x,y,z)\n",
    "        k1z=h*odeValz(x,y,z)\n",
    "            \n",
    "        k2x =h * odeValx(x+ 0.5*k1x, y + 0.5*k1y, z+0.5*k1z) \n",
    "        k2y =h * odeValy(x+ 0.5*k1x, y + 0.5*k1y, z+0.5*k1z)   \n",
    "        k2z =h * odeValz(x+ 0.5*k1x, y + 0.5*k1y, z+0.5*k1z)    \n",
    "            \n",
    "        k3x =h * odeValx(x+ 0.5*k2x, y + 0.5*k2y, z+0.5*k2z) \n",
    "        k3y =h * odeValy(x+ 0.5*k2x, y + 0.5*k2y, z+0.5*k2z)\n",
    "        k3z =h * odeValz(x+ 0.5*k2x, y + 0.5*k2y, z+0.5*k2z)\n",
    "        \n",
    "        k4x =h * odeValx(x+ k3x, y + k3y, z+k3z) \n",
    "        k4y =h * odeValy(x+ k3x, y + k3y, z+k3z)\n",
    "        k4z =h * odeValz(x+ k3x, y + k3y, z+k3z)\n",
    "        \n",
    "        \n",
    "        kx=(1.0 / 6.0)*(k1x + 2 * k2x + 2 * k3x + k4x)\n",
    "        ky=(1.0 / 6.0)*(k1y + 2 * k2y + 2 * k3y + k4y)\n",
    "        kz=(1.0 / 6.0)*(k1z + 2 * k2z + 2 * k3z + k4z)\n",
    "        \n",
    "        x = x + kx  \n",
    "        y = y + ky\n",
    "        \n",
    "        #if func==ode2Val(x,y,z) or func==ode3Val(x,y,z):\n",
    "        z = z + kz\n",
    "                \n",
    "        t0=t0+h\n",
    "  \n",
    "  \n",
    "    return x,y,z "
   ]
  },
  {
   "cell_type": "code",
   "execution_count": 13,
   "metadata": {},
   "outputs": [
    {
     "name": "stdout",
     "output_type": "stream",
     "text": [
      "at time=\n",
      "10\n",
      ": the value of x,y,z is: (-4.9028194837488, -3.743407675271489, 24.691885987964408)\n"
     ]
    }
   ],
   "source": [
    "# RK 4\n",
    "# assume step size 0.1\n",
    "x0 = 1\n",
    "y0 = 1\n",
    "z0 = 1\n",
    "h = 0.01    # Seems like an ill conditioned system as the coefficients of variables are huge, therefore choose small h\n",
    "t = 10\n",
    "t0=0\n",
    "equations=3         # number of odes\n",
    "print(\"at time=\")\n",
    "print(t)\n",
    "print(': the value of x,y,z is:', myRungeKutta4Method(x0, y0, z0, t, t0, h, equations))"
   ]
  },
  {
   "cell_type": "code",
   "execution_count": null,
   "metadata": {},
   "outputs": [],
   "source": []
  }
 ],
 "metadata": {
  "kernelspec": {
   "display_name": "Python 3",
   "language": "python",
   "name": "python3"
  },
  "language_info": {
   "codemirror_mode": {
    "name": "ipython",
    "version": 3
   },
   "file_extension": ".py",
   "mimetype": "text/x-python",
   "name": "python",
   "nbconvert_exporter": "python",
   "pygments_lexer": "ipython3",
   "version": "3.7.3"
  }
 },
 "nbformat": 4,
 "nbformat_minor": 2
}
