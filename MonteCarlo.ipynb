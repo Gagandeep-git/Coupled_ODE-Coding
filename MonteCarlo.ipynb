{
 "cells": [
  {
   "cell_type": "code",
   "execution_count": 82,
   "metadata": {
    "colab": {
     "base_uri": "https://localhost:8080/",
     "height": 1000
    },
    "colab_type": "code",
    "id": "dxpdu2voDo1X",
    "outputId": "9e28bd23-7560-4d0b-f7c0-1ca30a0f1a0a"
   },
   "outputs": [],
   "source": [
    "import numpy as np\n",
    "from numpy import random, sqrt, log, sin, cos, pi\n",
    "from pylab import show,hist,subplot,figure\n",
    "\n",
    "# transformation function to generate N(0,1) from two U(0,1) random variables\n",
    "\n",
    "def standard_normal(u1,u2):\n",
    "    x1 = sqrt(-2*log(u1))*cos(2*pi*u2)\n",
    "    x2 = sqrt(-2*log(u1))*sin(2*pi*u2)\n",
    "    return x1,x2\n",
    "\n",
    "# uniformly distributed values between 0 and 1\n",
    "\n",
    "n=10000           # number of samples\n",
    "                  # list to hold random vectors\n",
    "m=np.array([[1],[1],[1]])           # mean vector\n",
    "\n",
    "Z=[]\n",
    "for i in range(1,n+1):\n",
    "\n",
    "    X=np.array([])\n",
    "    z=np.array([])\n",
    "    u1 = random.rand()\n",
    "    u2 = random.rand()\n",
    "\n",
    "    u3 = random.rand()\n",
    "    u4 = random.rand()\n",
    "\n",
    "   \n",
    "    # run the transformation\n",
    "    \n",
    "    x1,x2 = standard_normal(u1,u2)\n",
    "\n",
    "    x3,x4 = standard_normal(u3,u4)\n",
    "    \n",
    "    #X.add([x1 x2 x3])\n",
    "    X=np.append(X,x1)\n",
    "    X=np.append(X,x2)\n",
    "    X=np.append(X,x3)\n",
    "    X=X.reshape(-1,1)\n",
    "    \n",
    "    z = X + m\n",
    "    \n",
    "    Z.append(z)\n",
    "        \n",
    "\n"
   ]
  },
  {
   "cell_type": "code",
   "execution_count": 5,
   "metadata": {
    "colab": {
     "base_uri": "https://localhost:8080/",
     "height": 122
    },
    "colab_type": "code",
    "id": "4qOB_EzTEYuL",
    "outputId": "795e6ce4-e8d5-4587-b5df-3b4b64d1a3ee"
   },
   "outputs": [
    {
     "name": "stdout",
     "output_type": "stream",
     "text": [
      "Requirement already satisfied: xlsxwriter in /Users/jaskeeratsingh/anaconda3/lib/python3.7/site-packages (1.1.5)\r\n"
     ]
    }
   ],
   "source": [
    "!pip install xlsxwriter"
   ]
  },
  {
   "cell_type": "code",
   "execution_count": 83,
   "metadata": {
    "colab": {},
    "colab_type": "code",
    "id": "9LIqHfuQDzWQ"
   },
   "outputs": [],
   "source": [
    "# Writing Z to excel to be used by RK4_Method  \n",
    "\n",
    "import xlsxwriter \n",
    "from xlsxwriter import Workbook \n",
    "  \n",
    "# Workbook is created \n",
    "wb = Workbook('multivariate_gaussian_samples.xls') \n",
    "  \n",
    "# add_sheet is used to create sheet. \n",
    "sheet1 = wb.add_worksheet('Sheet1') \n",
    "\n",
    "for i in range(0,n):\n",
    "    for j in range(0,3):             #each Z vector has 3 random variables\n",
    "        #sheet1.write(i,j)\n",
    "        sheet1.write(i, j,Z[i][j][0]) \n",
    "#sheet1.write(1,1,\"abc\")  \n",
    "wb.close()"
   ]
  },
  {
   "cell_type": "code",
   "execution_count": null,
   "metadata": {
    "colab": {},
    "colab_type": "code",
    "id": "VTsQXoVLETOQ"
   },
   "outputs": [],
   "source": []
  },
  {
   "cell_type": "code",
   "execution_count": null,
   "metadata": {},
   "outputs": [],
   "source": []
  },
  {
   "cell_type": "code",
   "execution_count": null,
   "metadata": {},
   "outputs": [],
   "source": []
  },
  {
   "cell_type": "code",
   "execution_count": null,
   "metadata": {},
   "outputs": [],
   "source": []
  },
  {
   "cell_type": "code",
   "execution_count": null,
   "metadata": {},
   "outputs": [],
   "source": []
  },
  {
   "cell_type": "code",
   "execution_count": null,
   "metadata": {},
   "outputs": [],
   "source": []
  },
  {
   "cell_type": "code",
   "execution_count": null,
   "metadata": {},
   "outputs": [],
   "source": []
  },
  {
   "cell_type": "code",
   "execution_count": null,
   "metadata": {},
   "outputs": [],
   "source": []
  },
  {
   "cell_type": "code",
   "execution_count": null,
   "metadata": {},
   "outputs": [],
   "source": []
  },
  {
   "cell_type": "code",
   "execution_count": null,
   "metadata": {},
   "outputs": [],
   "source": []
  },
  {
   "cell_type": "code",
   "execution_count": null,
   "metadata": {},
   "outputs": [],
   "source": []
  },
  {
   "cell_type": "code",
   "execution_count": null,
   "metadata": {},
   "outputs": [],
   "source": []
  },
  {
   "cell_type": "code",
   "execution_count": null,
   "metadata": {},
   "outputs": [],
   "source": []
  },
  {
   "cell_type": "code",
   "execution_count": null,
   "metadata": {},
   "outputs": [],
   "source": []
  },
  {
   "cell_type": "code",
   "execution_count": null,
   "metadata": {},
   "outputs": [],
   "source": []
  },
  {
   "cell_type": "code",
   "execution_count": null,
   "metadata": {},
   "outputs": [],
   "source": []
  },
  {
   "cell_type": "code",
   "execution_count": null,
   "metadata": {},
   "outputs": [],
   "source": []
  }
 ],
 "metadata": {
  "colab": {
   "collapsed_sections": [],
   "name": "MonteCarlo.ipynb",
   "provenance": []
  },
  "kernelspec": {
   "display_name": "Python 3",
   "language": "python",
   "name": "python3"
  },
  "language_info": {
   "codemirror_mode": {
    "name": "ipython",
    "version": 3
   },
   "file_extension": ".py",
   "mimetype": "text/x-python",
   "name": "python",
   "nbconvert_exporter": "python",
   "pygments_lexer": "ipython3",
   "version": "3.7.3"
  }
 },
 "nbformat": 4,
 "nbformat_minor": 1
}
